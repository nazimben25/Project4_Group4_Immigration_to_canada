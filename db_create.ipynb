{
 "cells": [
  {
   "cell_type": "code",
   "execution_count": 1,
   "metadata": {},
   "outputs": [],
   "source": [
    "# Import SQL Alchemy\n",
    "from sqlalchemy import create_engine\n",
    "\n",
    "# Import and establish Base for which classes will be constructed\n",
    "from sqlalchemy.ext.declarative import declarative_base\n",
    "\n",
    "\n",
    "# Import modules to declare columns and column data types\n",
    "from sqlalchemy import Column, Integer, String, Float, Boolean, MetaData, Table, ForeignKey\n",
    "\n",
    "# Import the Python SQL toolkit and Object Relational Mapper\n",
    "import sqlalchemy\n",
    "from sqlalchemy.ext.automap import automap_base\n",
    "from sqlalchemy.orm import Session\n",
    "from sqlalchemy import create_engine, inspect\n",
    "\n",
    "import pandas as pd"
   ]
  },
  {
   "cell_type": "code",
   "execution_count": 3,
   "metadata": {},
   "outputs": [],
   "source": [
    "# Create a connection to a SQLite database\n",
    "engine = create_engine('sqlite:///db_canada_immigration.sqlite')"
   ]
  },
  {
   "cell_type": "code",
   "execution_count": 4,
   "metadata": {},
   "outputs": [
    {
     "name": "stderr",
     "output_type": "stream",
     "text": [
      "C:\\Users\\nazim\\AppData\\Local\\Temp\\ipykernel_14132\\2689982033.py:2: MovedIn20Warning: The ``declarative_base()`` function is now available as sqlalchemy.orm.declarative_base(). (deprecated since: 2.0) (Background on SQLAlchemy 2.0 at: https://sqlalche.me/e/b8d9)\n",
      "  Base = declarative_base()\n"
     ]
    }
   ],
   "source": [
    "# Declare a Base using `automap_base()`\n",
    "Base = declarative_base()"
   ]
  },
  {
   "cell_type": "code",
   "execution_count": 7,
   "metadata": {},
   "outputs": [],
   "source": [
    "# Create the immigration_canada class\n",
    "\n",
    "class countries(Base):\n",
    "\n",
    "    __tablename__ = 'countries'\n",
    "    iso3Code = Column(String(255), primary_key=True) \n",
    "    iso2Code = Column(String(255)) \n",
    "    country = Column(String(255), unique=True) \n",
    "    region  = Column(String(255)) \n",
    "    capitalCity = Column(String(255)) \n",
    "    longitude = Column(Float) \n",
    "    latitude = Column(Float) \n",
    " "
   ]
  },
  {
   "cell_type": "code",
   "execution_count": 8,
   "metadata": {},
   "outputs": [],
   "source": [
    "class immigration(Base):\n",
    "\n",
    "    __tablename__ = 'immigration'\n",
    "    index = Column(Integer, primary_key=True) \n",
    "    country = Column(String(255)) \n",
    "    year = Column(Integer)\n",
    "    month_str = Column(String(255))   \n",
    "    month_int = Column(Integer) \n",
    "    quarter = Column(String(255))     \n",
    "    immigration_flow = Column(Integer) "
   ]
  },
  {
   "cell_type": "code",
   "execution_count": 9,
   "metadata": {},
   "outputs": [],
   "source": [
    "class macrodata(Base):\n",
    "\n",
    "    __tablename__ = 'macrodata'\n",
    "    index =   Column(Integer, primary_key=True)\n",
    "    iso3Code = Column(String(255), ForeignKey('countries.iso3Code'))\n",
    "    iso2Code = Column(String(255))\n",
    "    country = Column(String(255))\n",
    "    year = Column(Integer)\n",
    "    indicator = Column(String(255))\n",
    "    value = Column(Float)"
   ]
  },
  {
   "cell_type": "code",
   "execution_count": 10,
   "metadata": {},
   "outputs": [],
   "source": [
    "class cpi(Base):\n",
    "\n",
    "    __tablename__ = 'cpi'\n",
    "    country =   Column(String(255), primary_key=True)\n",
    "    iso3Code = Column(String(255) , ForeignKey('countries.iso3Code'))\n",
    "    CPI_score_2023 = Column(Float)\n"
   ]
  },
  {
   "cell_type": "code",
   "execution_count": 11,
   "metadata": {},
   "outputs": [],
   "source": [
    "class gpi(Base):\n",
    "\n",
    "    __tablename__ = 'gpi'\n",
    "    country =   Column(String(255), ForeignKey('countries.country'), primary_key=True)\n",
    "    Global_Peace_Index_2023 = Column(Float)"
   ]
  },
  {
   "cell_type": "code",
   "execution_count": 12,
   "metadata": {},
   "outputs": [
    {
     "name": "stderr",
     "output_type": "stream",
     "text": [
      "C:\\Users\\nazim\\AppData\\Local\\Temp\\ipykernel_14132\\4121919973.py:1: SAWarning: This declarative base already contains a class with the same class name and module name as __main__.clusters, and will be replaced in the string-lookup table.\n",
      "  class clusters(Base):\n"
     ]
    },
    {
     "ename": "InvalidRequestError",
     "evalue": "Table 'clusters' is already defined for this MetaData instance.  Specify 'extend_existing=True' to redefine options and columns on an existing Table object.",
     "output_type": "error",
     "traceback": [
      "\u001b[1;31m---------------------------------------------------------------------------\u001b[0m",
      "\u001b[1;31mInvalidRequestError\u001b[0m                       Traceback (most recent call last)",
      "Cell \u001b[1;32mIn[12], line 1\u001b[0m\n\u001b[1;32m----> 1\u001b[0m \u001b[38;5;28;01mclass\u001b[39;00m \u001b[38;5;21;01mclusters\u001b[39;00m(Base):\n\u001b[0;32m      3\u001b[0m     __tablename__ \u001b[38;5;241m=\u001b[39m \u001b[38;5;124m'\u001b[39m\u001b[38;5;124mclusters\u001b[39m\u001b[38;5;124m'\u001b[39m\n\u001b[0;32m      4\u001b[0m     country \u001b[38;5;241m=\u001b[39m   Column(String(\u001b[38;5;241m255\u001b[39m), ForeignKey(\u001b[38;5;124m'\u001b[39m\u001b[38;5;124mcountries.country\u001b[39m\u001b[38;5;124m'\u001b[39m), primary_key\u001b[38;5;241m=\u001b[39m\u001b[38;5;28;01mTrue\u001b[39;00m)\n",
      "File \u001b[1;32mc:\\Users\\nazim\\anaconda3\\Lib\\site-packages\\sqlalchemy\\orm\\decl_api.py:196\u001b[0m, in \u001b[0;36mDeclarativeMeta.__init__\u001b[1;34m(cls, classname, bases, dict_, **kw)\u001b[0m\n\u001b[0;32m    193\u001b[0m         \u001b[38;5;28mcls\u001b[39m\u001b[38;5;241m.\u001b[39m_sa_registry \u001b[38;5;241m=\u001b[39m reg\n\u001b[0;32m    195\u001b[0m \u001b[38;5;28;01mif\u001b[39;00m \u001b[38;5;129;01mnot\u001b[39;00m \u001b[38;5;28mcls\u001b[39m\u001b[38;5;241m.\u001b[39m\u001b[38;5;18m__dict__\u001b[39m\u001b[38;5;241m.\u001b[39mget(\u001b[38;5;124m\"\u001b[39m\u001b[38;5;124m__abstract__\u001b[39m\u001b[38;5;124m\"\u001b[39m, \u001b[38;5;28;01mFalse\u001b[39;00m):\n\u001b[1;32m--> 196\u001b[0m     _as_declarative(reg, \u001b[38;5;28mcls\u001b[39m, dict_)\n\u001b[0;32m    197\u001b[0m \u001b[38;5;28mtype\u001b[39m\u001b[38;5;241m.\u001b[39m\u001b[38;5;21m__init__\u001b[39m(\u001b[38;5;28mcls\u001b[39m, classname, bases, dict_)\n",
      "File \u001b[1;32mc:\\Users\\nazim\\anaconda3\\Lib\\site-packages\\sqlalchemy\\orm\\decl_base.py:244\u001b[0m, in \u001b[0;36m_as_declarative\u001b[1;34m(registry, cls, dict_)\u001b[0m\n\u001b[0;32m    239\u001b[0m \u001b[38;5;28;01mdef\u001b[39;00m \u001b[38;5;21m_as_declarative\u001b[39m(\n\u001b[0;32m    240\u001b[0m     registry: _RegistryType, \u001b[38;5;28mcls\u001b[39m: Type[Any], dict_: _ClassDict\n\u001b[0;32m    241\u001b[0m ) \u001b[38;5;241m-\u001b[39m\u001b[38;5;241m>\u001b[39m Optional[_MapperConfig]:\n\u001b[0;32m    242\u001b[0m     \u001b[38;5;66;03m# declarative scans the class for attributes.  no table or mapper\u001b[39;00m\n\u001b[0;32m    243\u001b[0m     \u001b[38;5;66;03m# args passed separately.\u001b[39;00m\n\u001b[1;32m--> 244\u001b[0m     \u001b[38;5;28;01mreturn\u001b[39;00m _MapperConfig\u001b[38;5;241m.\u001b[39msetup_mapping(registry, \u001b[38;5;28mcls\u001b[39m, dict_, \u001b[38;5;28;01mNone\u001b[39;00m, {})\n",
      "File \u001b[1;32mc:\\Users\\nazim\\anaconda3\\Lib\\site-packages\\sqlalchemy\\orm\\decl_base.py:325\u001b[0m, in \u001b[0;36m_MapperConfig.setup_mapping\u001b[1;34m(cls, registry, cls_, dict_, table, mapper_kw)\u001b[0m\n\u001b[0;32m    321\u001b[0m     \u001b[38;5;28;01mreturn\u001b[39;00m _DeferredMapperConfig(\n\u001b[0;32m    322\u001b[0m         registry, cls_, dict_, table, mapper_kw\n\u001b[0;32m    323\u001b[0m     )\n\u001b[0;32m    324\u001b[0m \u001b[38;5;28;01melse\u001b[39;00m:\n\u001b[1;32m--> 325\u001b[0m     \u001b[38;5;28;01mreturn\u001b[39;00m _ClassScanMapperConfig(\n\u001b[0;32m    326\u001b[0m         registry, cls_, dict_, table, mapper_kw\n\u001b[0;32m    327\u001b[0m     )\n",
      "File \u001b[1;32mc:\\Users\\nazim\\anaconda3\\Lib\\site-packages\\sqlalchemy\\orm\\decl_base.py:575\u001b[0m, in \u001b[0;36m_ClassScanMapperConfig.__init__\u001b[1;34m(self, registry, cls_, dict_, table, mapper_kw)\u001b[0m\n\u001b[0;32m    571\u001b[0m \u001b[38;5;28mself\u001b[39m\u001b[38;5;241m.\u001b[39m_extract_mappable_attributes()\n\u001b[0;32m    573\u001b[0m \u001b[38;5;28mself\u001b[39m\u001b[38;5;241m.\u001b[39m_extract_declared_columns()\n\u001b[1;32m--> 575\u001b[0m \u001b[38;5;28mself\u001b[39m\u001b[38;5;241m.\u001b[39m_setup_table(table)\n\u001b[0;32m    577\u001b[0m \u001b[38;5;28mself\u001b[39m\u001b[38;5;241m.\u001b[39m_setup_inheriting_columns(mapper_kw)\n\u001b[0;32m    579\u001b[0m \u001b[38;5;28mself\u001b[39m\u001b[38;5;241m.\u001b[39m_early_mapping(mapper_kw)\n",
      "File \u001b[1;32mc:\\Users\\nazim\\anaconda3\\Lib\\site-packages\\sqlalchemy\\orm\\decl_base.py:1726\u001b[0m, in \u001b[0;36m_ClassScanMapperConfig._setup_table\u001b[1;34m(self, table)\u001b[0m\n\u001b[0;32m   1718\u001b[0m             table_kw[\u001b[38;5;124m\"\u001b[39m\u001b[38;5;124mautoload\u001b[39m\u001b[38;5;124m\"\u001b[39m] \u001b[38;5;241m=\u001b[39m \u001b[38;5;28;01mTrue\u001b[39;00m\n\u001b[0;32m   1720\u001b[0m         sorted_columns \u001b[38;5;241m=\u001b[39m \u001b[38;5;28msorted\u001b[39m(\n\u001b[0;32m   1721\u001b[0m             declared_columns,\n\u001b[0;32m   1722\u001b[0m             key\u001b[38;5;241m=\u001b[39m\u001b[38;5;28;01mlambda\u001b[39;00m c: column_ordering\u001b[38;5;241m.\u001b[39mget(c, \u001b[38;5;241m0\u001b[39m),\n\u001b[0;32m   1723\u001b[0m         )\n\u001b[0;32m   1724\u001b[0m         table \u001b[38;5;241m=\u001b[39m \u001b[38;5;28mself\u001b[39m\u001b[38;5;241m.\u001b[39mset_cls_attribute(\n\u001b[0;32m   1725\u001b[0m             \u001b[38;5;124m\"\u001b[39m\u001b[38;5;124m__table__\u001b[39m\u001b[38;5;124m\"\u001b[39m,\n\u001b[1;32m-> 1726\u001b[0m             table_cls(\n\u001b[0;32m   1727\u001b[0m                 tablename,\n\u001b[0;32m   1728\u001b[0m                 \u001b[38;5;28mself\u001b[39m\u001b[38;5;241m.\u001b[39m_metadata_for_cls(manager),\n\u001b[0;32m   1729\u001b[0m                 \u001b[38;5;241m*\u001b[39msorted_columns,\n\u001b[0;32m   1730\u001b[0m                 \u001b[38;5;241m*\u001b[39margs,\n\u001b[0;32m   1731\u001b[0m                 \u001b[38;5;241m*\u001b[39m\u001b[38;5;241m*\u001b[39mtable_kw,\n\u001b[0;32m   1732\u001b[0m             ),\n\u001b[0;32m   1733\u001b[0m         )\n\u001b[0;32m   1734\u001b[0m \u001b[38;5;28;01melse\u001b[39;00m:\n\u001b[0;32m   1735\u001b[0m     \u001b[38;5;28;01mif\u001b[39;00m table \u001b[38;5;129;01mis\u001b[39;00m \u001b[38;5;28;01mNone\u001b[39;00m:\n",
      "File \u001b[1;32m<string>:2\u001b[0m, in \u001b[0;36m__new__\u001b[1;34m(cls, *args, **kw)\u001b[0m\n",
      "File \u001b[1;32mc:\\Users\\nazim\\anaconda3\\Lib\\site-packages\\sqlalchemy\\util\\deprecations.py:281\u001b[0m, in \u001b[0;36mdeprecated_params.<locals>.decorate.<locals>.warned\u001b[1;34m(fn, *args, **kwargs)\u001b[0m\n\u001b[0;32m    274\u001b[0m     \u001b[38;5;28;01mif\u001b[39;00m m \u001b[38;5;129;01min\u001b[39;00m kwargs:\n\u001b[0;32m    275\u001b[0m         _warn_with_version(\n\u001b[0;32m    276\u001b[0m             messages[m],\n\u001b[0;32m    277\u001b[0m             versions[m],\n\u001b[0;32m    278\u001b[0m             version_warnings[m],\n\u001b[0;32m    279\u001b[0m             stacklevel\u001b[38;5;241m=\u001b[39m\u001b[38;5;241m3\u001b[39m,\n\u001b[0;32m    280\u001b[0m         )\n\u001b[1;32m--> 281\u001b[0m \u001b[38;5;28;01mreturn\u001b[39;00m fn(\u001b[38;5;241m*\u001b[39margs, \u001b[38;5;241m*\u001b[39m\u001b[38;5;241m*\u001b[39mkwargs)\n",
      "File \u001b[1;32mc:\\Users\\nazim\\anaconda3\\Lib\\site-packages\\sqlalchemy\\sql\\schema.py:431\u001b[0m, in \u001b[0;36mTable.__new__\u001b[1;34m(cls, *args, **kw)\u001b[0m\n\u001b[0;32m    424\u001b[0m \u001b[38;5;129m@util\u001b[39m\u001b[38;5;241m.\u001b[39mdeprecated_params(\n\u001b[0;32m    425\u001b[0m     mustexist\u001b[38;5;241m=\u001b[39m(\n\u001b[0;32m    426\u001b[0m         \u001b[38;5;124m\"\u001b[39m\u001b[38;5;124m1.4\u001b[39m\u001b[38;5;124m\"\u001b[39m,\n\u001b[1;32m   (...)\u001b[0m\n\u001b[0;32m    429\u001b[0m )\n\u001b[0;32m    430\u001b[0m \u001b[38;5;28;01mdef\u001b[39;00m \u001b[38;5;21m__new__\u001b[39m(\u001b[38;5;28mcls\u001b[39m, \u001b[38;5;241m*\u001b[39margs: Any, \u001b[38;5;241m*\u001b[39m\u001b[38;5;241m*\u001b[39mkw: Any) \u001b[38;5;241m-\u001b[39m\u001b[38;5;241m>\u001b[39m Any:\n\u001b[1;32m--> 431\u001b[0m     \u001b[38;5;28;01mreturn\u001b[39;00m \u001b[38;5;28mcls\u001b[39m\u001b[38;5;241m.\u001b[39m_new(\u001b[38;5;241m*\u001b[39margs, \u001b[38;5;241m*\u001b[39m\u001b[38;5;241m*\u001b[39mkw)\n",
      "File \u001b[1;32mc:\\Users\\nazim\\anaconda3\\Lib\\site-packages\\sqlalchemy\\sql\\schema.py:463\u001b[0m, in \u001b[0;36mTable._new\u001b[1;34m(cls, *args, **kw)\u001b[0m\n\u001b[0;32m    461\u001b[0m \u001b[38;5;28;01mif\u001b[39;00m key \u001b[38;5;129;01min\u001b[39;00m metadata\u001b[38;5;241m.\u001b[39mtables:\n\u001b[0;32m    462\u001b[0m     \u001b[38;5;28;01mif\u001b[39;00m \u001b[38;5;129;01mnot\u001b[39;00m keep_existing \u001b[38;5;129;01mand\u001b[39;00m \u001b[38;5;129;01mnot\u001b[39;00m extend_existing \u001b[38;5;129;01mand\u001b[39;00m \u001b[38;5;28mbool\u001b[39m(args):\n\u001b[1;32m--> 463\u001b[0m         \u001b[38;5;28;01mraise\u001b[39;00m exc\u001b[38;5;241m.\u001b[39mInvalidRequestError(\n\u001b[0;32m    464\u001b[0m             \u001b[38;5;124mf\u001b[39m\u001b[38;5;124m\"\u001b[39m\u001b[38;5;124mTable \u001b[39m\u001b[38;5;124m'\u001b[39m\u001b[38;5;132;01m{\u001b[39;00mkey\u001b[38;5;132;01m}\u001b[39;00m\u001b[38;5;124m'\u001b[39m\u001b[38;5;124m is already defined for this MetaData \u001b[39m\u001b[38;5;124m\"\u001b[39m\n\u001b[0;32m    465\u001b[0m             \u001b[38;5;124m\"\u001b[39m\u001b[38;5;124minstance.  Specify \u001b[39m\u001b[38;5;124m'\u001b[39m\u001b[38;5;124mextend_existing=True\u001b[39m\u001b[38;5;124m'\u001b[39m\u001b[38;5;124m \u001b[39m\u001b[38;5;124m\"\u001b[39m\n\u001b[0;32m    466\u001b[0m             \u001b[38;5;124m\"\u001b[39m\u001b[38;5;124mto redefine \u001b[39m\u001b[38;5;124m\"\u001b[39m\n\u001b[0;32m    467\u001b[0m             \u001b[38;5;124m\"\u001b[39m\u001b[38;5;124moptions and columns on an \u001b[39m\u001b[38;5;124m\"\u001b[39m\n\u001b[0;32m    468\u001b[0m             \u001b[38;5;124m\"\u001b[39m\u001b[38;5;124mexisting Table object.\u001b[39m\u001b[38;5;124m\"\u001b[39m\n\u001b[0;32m    469\u001b[0m         )\n\u001b[0;32m    470\u001b[0m     table \u001b[38;5;241m=\u001b[39m metadata\u001b[38;5;241m.\u001b[39mtables[key]\n\u001b[0;32m    471\u001b[0m     \u001b[38;5;28;01mif\u001b[39;00m extend_existing:\n",
      "\u001b[1;31mInvalidRequestError\u001b[0m: Table 'clusters' is already defined for this MetaData instance.  Specify 'extend_existing=True' to redefine options and columns on an existing Table object."
     ]
    }
   ],
   "source": [
    "class clusters(Base):\n",
    "\n",
    "    __tablename__ = 'clusters'\n",
    "    country =   Column(String(255), ForeignKey('countries.country'), primary_key=True)\n",
    "    cluster = Column(Integer)"
   ]
  },
  {
   "cell_type": "code",
   "execution_count": 6,
   "metadata": {},
   "outputs": [
    {
     "ename": "NoReferencedTableError",
     "evalue": "Foreign key associated with column 'clusters.country' could not find table 'countries' with which to generate a foreign key to target column 'country'",
     "output_type": "error",
     "traceback": [
      "\u001b[1;31m---------------------------------------------------------------------------\u001b[0m",
      "\u001b[1;31mNoReferencedTableError\u001b[0m                    Traceback (most recent call last)",
      "Cell \u001b[1;32mIn[6], line 2\u001b[0m\n\u001b[0;32m      1\u001b[0m \u001b[38;5;66;03m# Create tables if they do not exist\u001b[39;00m\n\u001b[1;32m----> 2\u001b[0m Base\u001b[38;5;241m.\u001b[39mmetadata\u001b[38;5;241m.\u001b[39mcreate_all(engine)\n",
      "File \u001b[1;32mc:\\Users\\nazim\\anaconda3\\Lib\\site-packages\\sqlalchemy\\sql\\schema.py:5857\u001b[0m, in \u001b[0;36mMetaData.create_all\u001b[1;34m(self, bind, tables, checkfirst)\u001b[0m\n\u001b[0;32m   5833\u001b[0m \u001b[38;5;28;01mdef\u001b[39;00m \u001b[38;5;21mcreate_all\u001b[39m(\n\u001b[0;32m   5834\u001b[0m     \u001b[38;5;28mself\u001b[39m,\n\u001b[0;32m   5835\u001b[0m     bind: _CreateDropBind,\n\u001b[0;32m   5836\u001b[0m     tables: Optional[_typing_Sequence[Table]] \u001b[38;5;241m=\u001b[39m \u001b[38;5;28;01mNone\u001b[39;00m,\n\u001b[0;32m   5837\u001b[0m     checkfirst: \u001b[38;5;28mbool\u001b[39m \u001b[38;5;241m=\u001b[39m \u001b[38;5;28;01mTrue\u001b[39;00m,\n\u001b[0;32m   5838\u001b[0m ) \u001b[38;5;241m-\u001b[39m\u001b[38;5;241m>\u001b[39m \u001b[38;5;28;01mNone\u001b[39;00m:\n\u001b[0;32m   5839\u001b[0m \u001b[38;5;250m    \u001b[39m\u001b[38;5;124;03m\"\"\"Create all tables stored in this metadata.\u001b[39;00m\n\u001b[0;32m   5840\u001b[0m \n\u001b[0;32m   5841\u001b[0m \u001b[38;5;124;03m    Conditional by default, will not attempt to recreate tables already\u001b[39;00m\n\u001b[1;32m   (...)\u001b[0m\n\u001b[0;32m   5855\u001b[0m \n\u001b[0;32m   5856\u001b[0m \u001b[38;5;124;03m    \"\"\"\u001b[39;00m\n\u001b[1;32m-> 5857\u001b[0m     bind\u001b[38;5;241m.\u001b[39m_run_ddl_visitor(\n\u001b[0;32m   5858\u001b[0m         ddl\u001b[38;5;241m.\u001b[39mSchemaGenerator, \u001b[38;5;28mself\u001b[39m, checkfirst\u001b[38;5;241m=\u001b[39mcheckfirst, tables\u001b[38;5;241m=\u001b[39mtables\n\u001b[0;32m   5859\u001b[0m     )\n",
      "File \u001b[1;32mc:\\Users\\nazim\\anaconda3\\Lib\\site-packages\\sqlalchemy\\engine\\base.py:3251\u001b[0m, in \u001b[0;36mEngine._run_ddl_visitor\u001b[1;34m(self, visitorcallable, element, **kwargs)\u001b[0m\n\u001b[0;32m   3244\u001b[0m \u001b[38;5;28;01mdef\u001b[39;00m \u001b[38;5;21m_run_ddl_visitor\u001b[39m(\n\u001b[0;32m   3245\u001b[0m     \u001b[38;5;28mself\u001b[39m,\n\u001b[0;32m   3246\u001b[0m     visitorcallable: Type[Union[SchemaGenerator, SchemaDropper]],\n\u001b[0;32m   3247\u001b[0m     element: SchemaItem,\n\u001b[0;32m   3248\u001b[0m     \u001b[38;5;241m*\u001b[39m\u001b[38;5;241m*\u001b[39mkwargs: Any,\n\u001b[0;32m   3249\u001b[0m ) \u001b[38;5;241m-\u001b[39m\u001b[38;5;241m>\u001b[39m \u001b[38;5;28;01mNone\u001b[39;00m:\n\u001b[0;32m   3250\u001b[0m     \u001b[38;5;28;01mwith\u001b[39;00m \u001b[38;5;28mself\u001b[39m\u001b[38;5;241m.\u001b[39mbegin() \u001b[38;5;28;01mas\u001b[39;00m conn:\n\u001b[1;32m-> 3251\u001b[0m         conn\u001b[38;5;241m.\u001b[39m_run_ddl_visitor(visitorcallable, element, \u001b[38;5;241m*\u001b[39m\u001b[38;5;241m*\u001b[39mkwargs)\n",
      "File \u001b[1;32mc:\\Users\\nazim\\anaconda3\\Lib\\site-packages\\sqlalchemy\\engine\\base.py:2457\u001b[0m, in \u001b[0;36mConnection._run_ddl_visitor\u001b[1;34m(self, visitorcallable, element, **kwargs)\u001b[0m\n\u001b[0;32m   2445\u001b[0m \u001b[38;5;28;01mdef\u001b[39;00m \u001b[38;5;21m_run_ddl_visitor\u001b[39m(\n\u001b[0;32m   2446\u001b[0m     \u001b[38;5;28mself\u001b[39m,\n\u001b[0;32m   2447\u001b[0m     visitorcallable: Type[Union[SchemaGenerator, SchemaDropper]],\n\u001b[0;32m   2448\u001b[0m     element: SchemaItem,\n\u001b[0;32m   2449\u001b[0m     \u001b[38;5;241m*\u001b[39m\u001b[38;5;241m*\u001b[39mkwargs: Any,\n\u001b[0;32m   2450\u001b[0m ) \u001b[38;5;241m-\u001b[39m\u001b[38;5;241m>\u001b[39m \u001b[38;5;28;01mNone\u001b[39;00m:\n\u001b[0;32m   2451\u001b[0m \u001b[38;5;250m    \u001b[39m\u001b[38;5;124;03m\"\"\"run a DDL visitor.\u001b[39;00m\n\u001b[0;32m   2452\u001b[0m \n\u001b[0;32m   2453\u001b[0m \u001b[38;5;124;03m    This method is only here so that the MockConnection can change the\u001b[39;00m\n\u001b[0;32m   2454\u001b[0m \u001b[38;5;124;03m    options given to the visitor so that \"checkfirst\" is skipped.\u001b[39;00m\n\u001b[0;32m   2455\u001b[0m \n\u001b[0;32m   2456\u001b[0m \u001b[38;5;124;03m    \"\"\"\u001b[39;00m\n\u001b[1;32m-> 2457\u001b[0m     visitorcallable(\u001b[38;5;28mself\u001b[39m\u001b[38;5;241m.\u001b[39mdialect, \u001b[38;5;28mself\u001b[39m, \u001b[38;5;241m*\u001b[39m\u001b[38;5;241m*\u001b[39mkwargs)\u001b[38;5;241m.\u001b[39mtraverse_single(element)\n",
      "File \u001b[1;32mc:\\Users\\nazim\\anaconda3\\Lib\\site-packages\\sqlalchemy\\sql\\visitors.py:664\u001b[0m, in \u001b[0;36mExternalTraversal.traverse_single\u001b[1;34m(self, obj, **kw)\u001b[0m\n\u001b[0;32m    662\u001b[0m meth \u001b[38;5;241m=\u001b[39m \u001b[38;5;28mgetattr\u001b[39m(v, \u001b[38;5;124m\"\u001b[39m\u001b[38;5;124mvisit_\u001b[39m\u001b[38;5;132;01m%s\u001b[39;00m\u001b[38;5;124m\"\u001b[39m \u001b[38;5;241m%\u001b[39m obj\u001b[38;5;241m.\u001b[39m__visit_name__, \u001b[38;5;28;01mNone\u001b[39;00m)\n\u001b[0;32m    663\u001b[0m \u001b[38;5;28;01mif\u001b[39;00m meth:\n\u001b[1;32m--> 664\u001b[0m     \u001b[38;5;28;01mreturn\u001b[39;00m meth(obj, \u001b[38;5;241m*\u001b[39m\u001b[38;5;241m*\u001b[39mkw)\n",
      "File \u001b[1;32mc:\\Users\\nazim\\anaconda3\\Lib\\site-packages\\sqlalchemy\\sql\\ddl.py:896\u001b[0m, in \u001b[0;36mSchemaGenerator.visit_metadata\u001b[1;34m(self, metadata)\u001b[0m\n\u001b[0;32m    893\u001b[0m \u001b[38;5;28;01melse\u001b[39;00m:\n\u001b[0;32m    894\u001b[0m     tables \u001b[38;5;241m=\u001b[39m \u001b[38;5;28mlist\u001b[39m(metadata\u001b[38;5;241m.\u001b[39mtables\u001b[38;5;241m.\u001b[39mvalues())\n\u001b[1;32m--> 896\u001b[0m collection \u001b[38;5;241m=\u001b[39m sort_tables_and_constraints(\n\u001b[0;32m    897\u001b[0m     [t \u001b[38;5;28;01mfor\u001b[39;00m t \u001b[38;5;129;01min\u001b[39;00m tables \u001b[38;5;28;01mif\u001b[39;00m \u001b[38;5;28mself\u001b[39m\u001b[38;5;241m.\u001b[39m_can_create_table(t)]\n\u001b[0;32m    898\u001b[0m )\n\u001b[0;32m    900\u001b[0m seq_coll \u001b[38;5;241m=\u001b[39m [\n\u001b[0;32m    901\u001b[0m     s\n\u001b[0;32m    902\u001b[0m     \u001b[38;5;28;01mfor\u001b[39;00m s \u001b[38;5;129;01min\u001b[39;00m metadata\u001b[38;5;241m.\u001b[39m_sequences\u001b[38;5;241m.\u001b[39mvalues()\n\u001b[0;32m    903\u001b[0m     \u001b[38;5;28;01mif\u001b[39;00m s\u001b[38;5;241m.\u001b[39mcolumn \u001b[38;5;129;01mis\u001b[39;00m \u001b[38;5;28;01mNone\u001b[39;00m \u001b[38;5;129;01mand\u001b[39;00m \u001b[38;5;28mself\u001b[39m\u001b[38;5;241m.\u001b[39m_can_create_sequence(s)\n\u001b[0;32m    904\u001b[0m ]\n\u001b[0;32m    906\u001b[0m event_collection \u001b[38;5;241m=\u001b[39m [t \u001b[38;5;28;01mfor\u001b[39;00m (t, fks) \u001b[38;5;129;01min\u001b[39;00m collection \u001b[38;5;28;01mif\u001b[39;00m t \u001b[38;5;129;01mis\u001b[39;00m \u001b[38;5;129;01mnot\u001b[39;00m \u001b[38;5;28;01mNone\u001b[39;00m]\n",
      "File \u001b[1;32mc:\\Users\\nazim\\anaconda3\\Lib\\site-packages\\sqlalchemy\\sql\\ddl.py:1328\u001b[0m, in \u001b[0;36msort_tables_and_constraints\u001b[1;34m(tables, filter_fn, extra_dependencies, _warn_for_cycles)\u001b[0m\n\u001b[0;32m   1325\u001b[0m         remaining_fkcs\u001b[38;5;241m.\u001b[39madd(fkc)\n\u001b[0;32m   1326\u001b[0m         \u001b[38;5;28;01mcontinue\u001b[39;00m\n\u001b[1;32m-> 1328\u001b[0m dependent_on \u001b[38;5;241m=\u001b[39m fkc\u001b[38;5;241m.\u001b[39mreferred_table\n\u001b[0;32m   1329\u001b[0m \u001b[38;5;28;01mif\u001b[39;00m dependent_on \u001b[38;5;129;01mis\u001b[39;00m \u001b[38;5;129;01mnot\u001b[39;00m table:\n\u001b[0;32m   1330\u001b[0m     mutable_dependencies\u001b[38;5;241m.\u001b[39madd((dependent_on, table))\n",
      "File \u001b[1;32mc:\\Users\\nazim\\anaconda3\\Lib\\site-packages\\sqlalchemy\\sql\\schema.py:4742\u001b[0m, in \u001b[0;36mForeignKeyConstraint.referred_table\u001b[1;34m(self)\u001b[0m\n\u001b[0;32m   4732\u001b[0m \u001b[38;5;129m@property\u001b[39m\n\u001b[0;32m   4733\u001b[0m \u001b[38;5;28;01mdef\u001b[39;00m \u001b[38;5;21mreferred_table\u001b[39m(\u001b[38;5;28mself\u001b[39m) \u001b[38;5;241m-\u001b[39m\u001b[38;5;241m>\u001b[39m Table:\n\u001b[0;32m   4734\u001b[0m \u001b[38;5;250m    \u001b[39m\u001b[38;5;124;03m\"\"\"The :class:`_schema.Table` object to which this\u001b[39;00m\n\u001b[0;32m   4735\u001b[0m \u001b[38;5;124;03m    :class:`_schema.ForeignKeyConstraint` references.\u001b[39;00m\n\u001b[0;32m   4736\u001b[0m \n\u001b[1;32m   (...)\u001b[0m\n\u001b[0;32m   4740\u001b[0m \n\u001b[0;32m   4741\u001b[0m \u001b[38;5;124;03m    \"\"\"\u001b[39;00m\n\u001b[1;32m-> 4742\u001b[0m     \u001b[38;5;28;01mreturn\u001b[39;00m \u001b[38;5;28mself\u001b[39m\u001b[38;5;241m.\u001b[39melements[\u001b[38;5;241m0\u001b[39m]\u001b[38;5;241m.\u001b[39mcolumn\u001b[38;5;241m.\u001b[39mtable\n",
      "File \u001b[1;32mc:\\Users\\nazim\\anaconda3\\Lib\\site-packages\\sqlalchemy\\util\\langhelpers.py:1141\u001b[0m, in \u001b[0;36m_memoized_property.__get__\u001b[1;34m(self, obj, cls)\u001b[0m\n\u001b[0;32m   1139\u001b[0m \u001b[38;5;28;01mif\u001b[39;00m obj \u001b[38;5;129;01mis\u001b[39;00m \u001b[38;5;28;01mNone\u001b[39;00m:\n\u001b[0;32m   1140\u001b[0m     \u001b[38;5;28;01mreturn\u001b[39;00m \u001b[38;5;28mself\u001b[39m\n\u001b[1;32m-> 1141\u001b[0m obj\u001b[38;5;241m.\u001b[39m\u001b[38;5;18m__dict__\u001b[39m[\u001b[38;5;28mself\u001b[39m\u001b[38;5;241m.\u001b[39m\u001b[38;5;18m__name__\u001b[39m] \u001b[38;5;241m=\u001b[39m result \u001b[38;5;241m=\u001b[39m \u001b[38;5;28mself\u001b[39m\u001b[38;5;241m.\u001b[39mfget(obj)\n\u001b[0;32m   1142\u001b[0m \u001b[38;5;28;01mreturn\u001b[39;00m result\n",
      "File \u001b[1;32mc:\\Users\\nazim\\anaconda3\\Lib\\site-packages\\sqlalchemy\\sql\\schema.py:3159\u001b[0m, in \u001b[0;36mForeignKey.column\u001b[1;34m(self)\u001b[0m\n\u001b[0;32m   3149\u001b[0m \u001b[38;5;129m@util\u001b[39m\u001b[38;5;241m.\u001b[39mro_memoized_property\n\u001b[0;32m   3150\u001b[0m \u001b[38;5;28;01mdef\u001b[39;00m \u001b[38;5;21mcolumn\u001b[39m(\u001b[38;5;28mself\u001b[39m) \u001b[38;5;241m-\u001b[39m\u001b[38;5;241m>\u001b[39m Column[Any]:\n\u001b[0;32m   3151\u001b[0m \u001b[38;5;250m    \u001b[39m\u001b[38;5;124;03m\"\"\"Return the target :class:`_schema.Column` referenced by this\u001b[39;00m\n\u001b[0;32m   3152\u001b[0m \u001b[38;5;124;03m    :class:`_schema.ForeignKey`.\u001b[39;00m\n\u001b[0;32m   3153\u001b[0m \n\u001b[1;32m   (...)\u001b[0m\n\u001b[0;32m   3156\u001b[0m \n\u001b[0;32m   3157\u001b[0m \u001b[38;5;124;03m    \"\"\"\u001b[39;00m\n\u001b[1;32m-> 3159\u001b[0m     \u001b[38;5;28;01mreturn\u001b[39;00m \u001b[38;5;28mself\u001b[39m\u001b[38;5;241m.\u001b[39m_resolve_column()\n",
      "File \u001b[1;32mc:\\Users\\nazim\\anaconda3\\Lib\\site-packages\\sqlalchemy\\sql\\schema.py:3182\u001b[0m, in \u001b[0;36mForeignKey._resolve_column\u001b[1;34m(self, raiseerr)\u001b[0m\n\u001b[0;32m   3180\u001b[0m     \u001b[38;5;28;01mif\u001b[39;00m \u001b[38;5;129;01mnot\u001b[39;00m raiseerr:\n\u001b[0;32m   3181\u001b[0m         \u001b[38;5;28;01mreturn\u001b[39;00m \u001b[38;5;28;01mNone\u001b[39;00m\n\u001b[1;32m-> 3182\u001b[0m     \u001b[38;5;28;01mraise\u001b[39;00m exc\u001b[38;5;241m.\u001b[39mNoReferencedTableError(\n\u001b[0;32m   3183\u001b[0m         \u001b[38;5;124mf\u001b[39m\u001b[38;5;124m\"\u001b[39m\u001b[38;5;124mForeign key associated with column \u001b[39m\u001b[38;5;124m\"\u001b[39m\n\u001b[0;32m   3184\u001b[0m         \u001b[38;5;124mf\u001b[39m\u001b[38;5;124m\"\u001b[39m\u001b[38;5;124m'\u001b[39m\u001b[38;5;132;01m{\u001b[39;00m\u001b[38;5;28mself\u001b[39m\u001b[38;5;241m.\u001b[39mparent\u001b[38;5;132;01m}\u001b[39;00m\u001b[38;5;124m'\u001b[39m\u001b[38;5;124m could not find \u001b[39m\u001b[38;5;124m\"\u001b[39m\n\u001b[0;32m   3185\u001b[0m         \u001b[38;5;124mf\u001b[39m\u001b[38;5;124m\"\u001b[39m\u001b[38;5;124mtable \u001b[39m\u001b[38;5;124m'\u001b[39m\u001b[38;5;132;01m{\u001b[39;00mtablekey\u001b[38;5;132;01m}\u001b[39;00m\u001b[38;5;124m'\u001b[39m\u001b[38;5;124m with which to generate a \u001b[39m\u001b[38;5;124m\"\u001b[39m\n\u001b[0;32m   3186\u001b[0m         \u001b[38;5;124mf\u001b[39m\u001b[38;5;124m\"\u001b[39m\u001b[38;5;124mforeign key to target column \u001b[39m\u001b[38;5;124m'\u001b[39m\u001b[38;5;132;01m{\u001b[39;00mcolname\u001b[38;5;132;01m}\u001b[39;00m\u001b[38;5;124m'\u001b[39m\u001b[38;5;124m\"\u001b[39m,\n\u001b[0;32m   3187\u001b[0m         tablekey,\n\u001b[0;32m   3188\u001b[0m     )\n\u001b[0;32m   3189\u001b[0m \u001b[38;5;28;01melif\u001b[39;00m parenttable\u001b[38;5;241m.\u001b[39mkey \u001b[38;5;129;01mnot\u001b[39;00m \u001b[38;5;129;01min\u001b[39;00m parenttable\u001b[38;5;241m.\u001b[39mmetadata:\n\u001b[0;32m   3190\u001b[0m     \u001b[38;5;28;01mif\u001b[39;00m \u001b[38;5;129;01mnot\u001b[39;00m raiseerr:\n",
      "\u001b[1;31mNoReferencedTableError\u001b[0m: Foreign key associated with column 'clusters.country' could not find table 'countries' with which to generate a foreign key to target column 'country'"
     ]
    }
   ],
   "source": [
    "# Create tables if they do not exist\n",
    "Base.metadata.create_all(engine)"
   ]
  },
  {
   "cell_type": "code",
   "execution_count": 13,
   "metadata": {},
   "outputs": [
    {
     "name": "stdout",
     "output_type": "stream",
     "text": [
      "<class '__main__.countries'>\n",
      "<class '__main__.immigration'>\n",
      "<class '__main__.macrodata'>\n",
      "<class '__main__.cpi'>\n",
      "<class '__main__.gpi'>\n",
      "<class '__main__.clusters'>\n"
     ]
    }
   ],
   "source": [
    "print(countries)\n",
    "print(immigration)\n",
    "print(macrodata)\n",
    "print(cpi)\n",
    "print(gpi)\n",
    "print(clusters)"
   ]
  },
  {
   "cell_type": "code",
   "execution_count": 11,
   "metadata": {},
   "outputs": [
    {
     "name": "stdout",
     "output_type": "stream",
     "text": [
      "Data imported successfully!\n"
     ]
    }
   ],
   "source": [
    "# Read the CSV file into a DataFrame\n",
    "csv_file_path = 'Output/countries_UN_referential.csv'  \n",
    "df = pd.read_csv(csv_file_path)\n",
    "\n",
    "# Write the DataFrame to the SQL table\n",
    "df.to_sql('countries', con=engine, if_exists='append', index=False)\n",
    "\n",
    "print(\"Data imported successfully!\")"
   ]
  },
  {
   "cell_type": "code",
   "execution_count": 12,
   "metadata": {},
   "outputs": [
    {
     "name": "stdout",
     "output_type": "stream",
     "text": [
      "Data imported successfully!\n"
     ]
    }
   ],
   "source": [
    "# Read the CSV file into a DataFrame\n",
    "csv_file_path = 'Output/immigrants_by_country_monthly.csv' \n",
    "df = pd.read_csv(csv_file_path)\n",
    "\n",
    "# Write the DataFrame to the SQL table\n",
    "df.to_sql('immigration', con=engine, if_exists='append', index=False)\n",
    "\n",
    "print(\"Data imported successfully!\")"
   ]
  },
  {
   "cell_type": "code",
   "execution_count": 13,
   "metadata": {},
   "outputs": [
    {
     "name": "stdout",
     "output_type": "stream",
     "text": [
      "Data imported successfully!\n"
     ]
    }
   ],
   "source": [
    "# Read the CSV file into a DataFrame\n",
    "csv_file_path = 'Output/macro_economic_data.csv'  \n",
    "df = pd.read_csv(csv_file_path)\n",
    "\n",
    "# Write the DataFrame to the SQL table\n",
    "df.to_sql('macrodata', con=engine, if_exists='append', index=False)\n",
    "\n",
    "print(\"Data imported successfully!\")"
   ]
  },
  {
   "cell_type": "code",
   "execution_count": 14,
   "metadata": {},
   "outputs": [
    {
     "name": "stdout",
     "output_type": "stream",
     "text": [
      "Data imported successfully!\n"
     ]
    }
   ],
   "source": [
    "# Read the CSV file into a DataFrame\n",
    "csv_file_path = 'Output/corruption_perception_index.csv'  \n",
    "df = pd.read_csv(csv_file_path)\n",
    "\n",
    "# Write the DataFrame to the SQL table\n",
    "df.to_sql('cpi', con=engine, if_exists='append', index=False)\n",
    "\n",
    "print(\"Data imported successfully!\")"
   ]
  },
  {
   "cell_type": "code",
   "execution_count": 15,
   "metadata": {},
   "outputs": [
    {
     "name": "stdout",
     "output_type": "stream",
     "text": [
      "Data imported successfully!\n"
     ]
    }
   ],
   "source": [
    "# Read the CSV file into a DataFrame\n",
    "csv_file_path = 'Output/Global_Peace_Index.csv'  \n",
    "df = pd.read_csv(csv_file_path)\n",
    "\n",
    "# Write the DataFrame to the SQL table\n",
    "df.to_sql('gpi', con=engine, if_exists='append', index=False)\n",
    "\n",
    "print(\"Data imported successfully!\")"
   ]
  },
  {
   "cell_type": "code",
   "execution_count": 14,
   "metadata": {},
   "outputs": [
    {
     "name": "stdout",
     "output_type": "stream",
     "text": [
      "Data imported successfully!\n"
     ]
    }
   ],
   "source": [
    "# Read the CSV file into a DataFrame\n",
    "csv_file_path = 'Output_analysis/Clusters_DB.csv'  \n",
    "df = pd.read_csv(csv_file_path)\n",
    "\n",
    "# Write the DataFrame to the SQL table\n",
    "df.to_sql('clusters', con=engine, if_exists='append', index=False)\n",
    "\n",
    "print(\"Data imported successfully!\")"
   ]
  }
 ],
 "metadata": {
  "kernelspec": {
   "display_name": "base",
   "language": "python",
   "name": "python3"
  },
  "language_info": {
   "codemirror_mode": {
    "name": "ipython",
    "version": 3
   },
   "file_extension": ".py",
   "mimetype": "text/x-python",
   "name": "python",
   "nbconvert_exporter": "python",
   "pygments_lexer": "ipython3",
   "version": "3.12.3"
  }
 },
 "nbformat": 4,
 "nbformat_minor": 2
}
